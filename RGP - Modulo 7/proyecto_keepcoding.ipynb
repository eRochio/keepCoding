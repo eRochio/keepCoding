{
 "cells": [
  {
   "cell_type": "markdown",
   "metadata": {},
   "source": [
    "# Práctica Big Data processing\n",
    "En esta practica, utilizaremos dos datasets que contienen información de cada pais sobre varios indicadores de felicidad. \n",
    "  - **df** será el primer dataset, en el se incluyen datos hasta el año 2020.\n",
    "  - **df2021**, el segundo satset en el que solamente se incluye datos del año 2021.\n",
    "\n",
    "Con estos datos, se pretende poder responder las 6 cuestiones planteadas para la práctica."
   ]
  },
  {
   "cell_type": "markdown",
   "metadata": {},
   "source": [
    "## En primer lugar,\n",
    "Vamos a instalar e importar todas las librerias que vamos a utilizar a continuación, para así poder tener un cuaderno mas limpio. "
   ]
  },
  {
   "cell_type": "code",
   "execution_count": 1,
   "metadata": {},
   "outputs": [
    {
     "name": "stdout",
     "output_type": "stream",
     "text": [
      "3.5.0\n"
     ]
    }
   ],
   "source": [
    "#Instalamos Pyspark para poder utilizarlo en caso de no tenerlo\n",
    "\n",
    "#pip install pyspark\n",
    "\n",
    "#comprobamos la version de pyspark y de phyton\n",
    "import pyspark\n",
    "print(pyspark.__version__)\n"
   ]
  },
  {
   "cell_type": "code",
   "execution_count": 2,
   "metadata": {},
   "outputs": [],
   "source": [
    "#Creamos una sesion de spark\n",
    "from pyspark.sql import SparkSession\n",
    "\n",
    "#Creamos un objeto de spark session\n",
    "spark = SparkSession.builder.appName(\"keepcoding_rgp\").getOrCreate()\n",
    "\n",
    "from pyspark.sql import functions as F\n",
    "from collections import Counter"
   ]
  },
  {
   "cell_type": "markdown",
   "metadata": {},
   "source": [
    "A continuación, vamos a cargar nuestros datos base:"
   ]
  },
  {
   "cell_type": "code",
   "execution_count": 3,
   "metadata": {},
   "outputs": [
    {
     "name": "stdout",
     "output_type": "stream",
     "text": [
      "+------------+----+-----------+------------------+--------------+--------------------------------+----------------------------+----------+-------------------------+---------------+---------------+\n",
      "|Country name|year|Life Ladder|Log GDP per capita|Social support|Healthy life expectancy at birth|Freedom to make life choices|Generosity|Perceptions of corruption|Positive affect|Negative affect|\n",
      "+------------+----+-----------+------------------+--------------+--------------------------------+----------------------------+----------+-------------------------+---------------+---------------+\n",
      "| Afghanistan|2008|      3.724|             7.370|         0.451|                          50.800|                       0.718|     0.168|                    0.882|          0.518|          0.258|\n",
      "| Afghanistan|2009|      4.402|             7.540|         0.552|                          51.200|                       0.679|     0.190|                    0.850|          0.584|          0.237|\n",
      "| Afghanistan|2010|      4.758|             7.647|         0.539|                          51.600|                       0.600|     0.121|                    0.707|          0.618|          0.275|\n",
      "| Afghanistan|2011|      3.832|             7.620|         0.521|                          51.920|                       0.496|     0.162|                    0.731|          0.611|          0.267|\n",
      "| Afghanistan|2012|      3.783|             7.705|         0.521|                          52.240|                       0.531|     0.236|                    0.776|          0.710|          0.268|\n",
      "| Afghanistan|2013|      3.572|             7.725|         0.484|                          52.560|                       0.578|     0.061|                    0.823|          0.621|          0.273|\n",
      "| Afghanistan|2014|      3.131|             7.718|         0.526|                          52.880|                       0.509|     0.104|                    0.871|          0.532|          0.375|\n",
      "| Afghanistan|2015|      3.983|             7.702|         0.529|                          53.200|                       0.389|     0.080|                    0.881|          0.554|          0.339|\n",
      "| Afghanistan|2016|      4.220|             7.697|         0.559|                          53.000|                       0.523|     0.042|                    0.793|          0.565|          0.348|\n",
      "| Afghanistan|2017|      2.662|             7.697|         0.491|                          52.800|                       0.427|    -0.121|                    0.954|          0.496|          0.371|\n",
      "+------------+----+-----------+------------------+--------------+--------------------------------+----------------------------+----------+-------------------------+---------------+---------------+\n",
      "only showing top 10 rows\n",
      "\n",
      "+------------+--------------------+------------+------------------------------+------------+------------+---------------------+--------------+-----------------------+----------------------------+----------+-------------------------+------------------------+--------------------------------+----------------------------+-------------------------------------+------------------------------------------+------------------------+---------------------------------------+-------------------+\n",
      "|Country name|  Regional indicator|Ladder score|Standard error of ladder score|upperwhisker|lowerwhisker|Logged GDP per capita|Social support|Healthy life expectancy|Freedom to make life choices|Generosity|Perceptions of corruption|Ladder score in Dystopia|Explained by: Log GDP per capita|Explained by: Social support|Explained by: Healthy life expectancy|Explained by: Freedom to make life choices|Explained by: Generosity|Explained by: Perceptions of corruption|Dystopia + residual|\n",
      "+------------+--------------------+------------+------------------------------+------------+------------+---------------------+--------------+-----------------------+----------------------------+----------+-------------------------+------------------------+--------------------------------+----------------------------+-------------------------------------+------------------------------------------+------------------------+---------------------------------------+-------------------+\n",
      "|     Finland|      Western Europe|       7.842|                         0.032|       7.904|       7.780|               10.775|         0.954|                 72.000|                       0.949|    -0.098|                    0.186|                   2.430|                           1.446|                       1.106|                                0.741|                                     0.691|                   0.124|                                  0.481|              3.253|\n",
      "|     Denmark|      Western Europe|       7.620|                         0.035|       7.687|       7.552|               10.933|         0.954|                 72.700|                       0.946|     0.030|                    0.179|                   2.430|                           1.502|                       1.108|                                0.763|                                     0.686|                   0.208|                                  0.485|              2.868|\n",
      "| Switzerland|      Western Europe|       7.571|                         0.036|       7.643|       7.500|               11.117|         0.942|                 74.400|                       0.919|     0.025|                    0.292|                   2.430|                           1.566|                       1.079|                                0.816|                                     0.653|                   0.204|                                  0.413|              2.839|\n",
      "|     Iceland|      Western Europe|       7.554|                         0.059|       7.670|       7.438|               10.878|         0.983|                 73.000|                       0.955|     0.160|                    0.673|                   2.430|                           1.482|                       1.172|                                0.772|                                     0.698|                   0.293|                                  0.170|              2.967|\n",
      "| Netherlands|      Western Europe|       7.464|                         0.027|       7.518|       7.410|               10.932|         0.942|                 72.400|                       0.913|     0.175|                    0.338|                   2.430|                           1.501|                       1.079|                                0.753|                                     0.647|                   0.302|                                  0.384|              2.798|\n",
      "|      Norway|      Western Europe|       7.392|                         0.035|       7.462|       7.323|               11.053|         0.954|                 73.300|                       0.960|     0.093|                    0.270|                   2.430|                           1.543|                       1.108|                                0.782|                                     0.703|                   0.249|                                  0.427|              2.580|\n",
      "|      Sweden|      Western Europe|       7.363|                         0.036|       7.433|       7.293|               10.867|         0.934|                 72.700|                       0.945|     0.086|                    0.237|                   2.430|                           1.478|                       1.062|                                0.763|                                     0.685|                   0.244|                                  0.448|              2.683|\n",
      "|  Luxembourg|      Western Europe|       7.324|                         0.037|       7.396|       7.252|               11.647|         0.908|                 72.600|                       0.907|    -0.034|                    0.386|                   2.430|                           1.751|                       1.003|                                0.760|                                     0.639|                   0.166|                                  0.353|              2.653|\n",
      "| New Zealand|North America and...|       7.277|                         0.040|       7.355|       7.198|               10.643|         0.948|                 73.400|                       0.929|     0.134|                    0.242|                   2.430|                           1.400|                       1.094|                                0.785|                                     0.665|                   0.276|                                  0.445|              2.612|\n",
      "|     Austria|      Western Europe|       7.268|                         0.036|       7.337|       7.198|               10.906|         0.934|                 73.300|                       0.908|     0.042|                    0.481|                   2.430|                           1.492|                       1.062|                                0.782|                                     0.640|                   0.215|                                  0.292|              2.784|\n",
      "+------------+--------------------+------------+------------------------------+------------+------------+---------------------+--------------+-----------------------+----------------------------+----------+-------------------------+------------------------+--------------------------------+----------------------------+-------------------------------------+------------------------------------------+------------------------+---------------------------------------+-------------------+\n",
      "only showing top 10 rows\n",
      "\n"
     ]
    }
   ],
   "source": [
    "#Leemos un cvs\n",
    "df = spark.read.option(\"header\", \"true\").csv(\"C:/Users/Rocio/OneDrive - Universidad de Córdoba/.KEEPCODING/big data, IA, ML/7.big-data-processing/PROYECTO FINAL/Datasets/world-happiness-report.csv\")\n",
    "df2021 = spark.read.option(\"header\", \"true\").csv(\"C:/Users/Rocio/OneDrive - Universidad de Córdoba/.KEEPCODING/big data, IA, ML/7.big-data-processing/PROYECTO FINAL/Datasets/world-happiness-report-2021.csv\")\n",
    "\n",
    "#Mostramos los primeros 10 registros\n",
    "df.show(10)\n",
    "df2021.show(10)"
   ]
  },
  {
   "cell_type": "markdown",
   "metadata": {},
   "source": [
    "## Preguntas:\n"
   ]
  },
  {
   "cell_type": "markdown",
   "metadata": {},
   "source": [
    "1. ¿Cuál es el país más “feliz” del 2021 según la data? (considerar que la columna “Ladder score” mayor número más feliz es el país)\n"
   ]
  },
  {
   "cell_type": "code",
   "execution_count": 4,
   "metadata": {},
   "outputs": [
    {
     "name": "stdout",
     "output_type": "stream",
     "text": [
      "Tabla ordenada por 'Ladder score':\n",
      "+------------+--------------------+------------+------------------------------+------------+------------+---------------------+--------------+-----------------------+----------------------------+----------+-------------------------+------------------------+--------------------------------+----------------------------+-------------------------------------+------------------------------------------+------------------------+---------------------------------------+-------------------+\n",
      "|Country name|  Regional indicator|Ladder score|Standard error of ladder score|upperwhisker|lowerwhisker|Logged GDP per capita|Social support|Healthy life expectancy|Freedom to make life choices|Generosity|Perceptions of corruption|Ladder score in Dystopia|Explained by: Log GDP per capita|Explained by: Social support|Explained by: Healthy life expectancy|Explained by: Freedom to make life choices|Explained by: Generosity|Explained by: Perceptions of corruption|Dystopia + residual|\n",
      "+------------+--------------------+------------+------------------------------+------------+------------+---------------------+--------------+-----------------------+----------------------------+----------+-------------------------+------------------------+--------------------------------+----------------------------+-------------------------------------+------------------------------------------+------------------------+---------------------------------------+-------------------+\n",
      "|     Finland|      Western Europe|       7.842|                         0.032|       7.904|       7.780|               10.775|         0.954|                 72.000|                       0.949|    -0.098|                    0.186|                   2.430|                           1.446|                       1.106|                                0.741|                                     0.691|                   0.124|                                  0.481|              3.253|\n",
      "|     Denmark|      Western Europe|       7.620|                         0.035|       7.687|       7.552|               10.933|         0.954|                 72.700|                       0.946|     0.030|                    0.179|                   2.430|                           1.502|                       1.108|                                0.763|                                     0.686|                   0.208|                                  0.485|              2.868|\n",
      "| Switzerland|      Western Europe|       7.571|                         0.036|       7.643|       7.500|               11.117|         0.942|                 74.400|                       0.919|     0.025|                    0.292|                   2.430|                           1.566|                       1.079|                                0.816|                                     0.653|                   0.204|                                  0.413|              2.839|\n",
      "|     Iceland|      Western Europe|       7.554|                         0.059|       7.670|       7.438|               10.878|         0.983|                 73.000|                       0.955|     0.160|                    0.673|                   2.430|                           1.482|                       1.172|                                0.772|                                     0.698|                   0.293|                                  0.170|              2.967|\n",
      "| Netherlands|      Western Europe|       7.464|                         0.027|       7.518|       7.410|               10.932|         0.942|                 72.400|                       0.913|     0.175|                    0.338|                   2.430|                           1.501|                       1.079|                                0.753|                                     0.647|                   0.302|                                  0.384|              2.798|\n",
      "|      Norway|      Western Europe|       7.392|                         0.035|       7.462|       7.323|               11.053|         0.954|                 73.300|                       0.960|     0.093|                    0.270|                   2.430|                           1.543|                       1.108|                                0.782|                                     0.703|                   0.249|                                  0.427|              2.580|\n",
      "|      Sweden|      Western Europe|       7.363|                         0.036|       7.433|       7.293|               10.867|         0.934|                 72.700|                       0.945|     0.086|                    0.237|                   2.430|                           1.478|                       1.062|                                0.763|                                     0.685|                   0.244|                                  0.448|              2.683|\n",
      "|  Luxembourg|      Western Europe|       7.324|                         0.037|       7.396|       7.252|               11.647|         0.908|                 72.600|                       0.907|    -0.034|                    0.386|                   2.430|                           1.751|                       1.003|                                0.760|                                     0.639|                   0.166|                                  0.353|              2.653|\n",
      "| New Zealand|North America and...|       7.277|                         0.040|       7.355|       7.198|               10.643|         0.948|                 73.400|                       0.929|     0.134|                    0.242|                   2.430|                           1.400|                       1.094|                                0.785|                                     0.665|                   0.276|                                  0.445|              2.612|\n",
      "|     Austria|      Western Europe|       7.268|                         0.036|       7.337|       7.198|               10.906|         0.934|                 73.300|                       0.908|     0.042|                    0.481|                   2.430|                           1.492|                       1.062|                                0.782|                                     0.640|                   0.215|                                  0.292|              2.784|\n",
      "+------------+--------------------+------------+------------------------------+------------+------------+---------------------+--------------+-----------------------+----------------------------+----------+-------------------------+------------------------+--------------------------------+----------------------------+-------------------------------------+------------------------------------------+------------------------+---------------------------------------+-------------------+\n",
      "only showing top 10 rows\n",
      "\n",
      "El pais con el mayor valor en 'Ladder score' es: Finland\n"
     ]
    }
   ],
   "source": [
    "\n",
    "# Ordenamos la tabla con los valores de life ladder\n",
    "max_life_ladder_country = df2021.orderBy(F.desc(\"Ladder score\"))\n",
    "\n",
    "print(\"Tabla ordenada por 'Ladder score':\")\n",
    "max_life_ladder_country.show(10)\n",
    "\n",
    "#Seleccionamos el de mayor valor\n",
    "max_country = max_life_ladder_country.select(\"country name\", \"Ladder score\").first()\n",
    "# Imprime el resultado\n",
    "print(f\"El pais con el mayor valor en 'Ladder score' es: {max_country['country name']}\")\n"
   ]
  },
  {
   "cell_type": "markdown",
   "metadata": {},
   "source": [
    "\n",
    "2. ¿Cuál es el país más “feliz” del 2021 por continente según la data?\n"
   ]
  },
  {
   "cell_type": "code",
   "execution_count": 5,
   "metadata": {},
   "outputs": [
    {
     "name": "stdout",
     "output_type": "stream",
     "text": [
      "{'Continente': 'South Asia', 'País más feliz': 'Nepal', 'Ladder Score': '5.269'}\n",
      "{'Continente': 'Middle East and North Africa', 'País más feliz': 'Israel', 'Ladder Score': '7.157'}\n",
      "{'Continente': 'North America and ANZ', 'País más feliz': 'New Zealand', 'Ladder Score': '7.277'}\n",
      "{'Continente': 'Sub-Saharan Africa', 'País más feliz': 'Mauritius', 'Ladder Score': '6.049'}\n",
      "{'Continente': 'East Asia', 'País más feliz': 'Taiwan Province of China', 'Ladder Score': '6.584'}\n",
      "{'Continente': 'Commonwealth of Independent States', 'País más feliz': 'Uzbekistan', 'Ladder Score': '6.179'}\n",
      "{'Continente': 'Latin America and Caribbean', 'País más feliz': 'Costa Rica', 'Ladder Score': '7.069'}\n",
      "{'Continente': 'Western Europe', 'País más feliz': 'Finland', 'Ladder Score': '7.842'}\n",
      "{'Continente': 'Central and Eastern Europe', 'País más feliz': 'Czech Republic', 'Ladder Score': '6.965'}\n",
      "{'Continente': 'Southeast Asia', 'País más feliz': 'Singapore', 'Ladder Score': '6.377'}\n"
     ]
    }
   ],
   "source": [
    "\n",
    "# Obtener la lista de continentes únicos\n",
    "continentes = df2021.select(\"Regional indicator\").distinct().collect()\n",
    "\n",
    "# Crear una lista para almacenar los resultados\n",
    "resultados = []\n",
    "\n",
    "# Iterar sobre cada continente\n",
    "for continente in continentes:\n",
    "    # Filtrar el DataFrame para el continente actual\n",
    "    df_cont = df2021.filter(df2021[\"Regional indicator\"] == continente[\"Regional indicator\"])\n",
    "    \n",
    "    # Obtener el país con el mayor \"Ladder score\" para el continente actual\n",
    "    pais_mas_feliz = df_cont.orderBy(F.desc(\"Ladder score\")).select(\"Regional indicator\",\"country name\", \"Ladder score\",).first()\n",
    "    \n",
    "    # Agregar a la lista de resultados\n",
    "    resultados.append({\n",
    "        \"Continente\": pais_mas_feliz[\"Regional indicator\"],\n",
    "        \"País más feliz\": pais_mas_feliz[\"country name\"],\n",
    "        \"Ladder Score\": pais_mas_feliz[\"Ladder score\"]\n",
    "    })\n",
    "\n",
    "for resultado in resultados:\n",
    "    print(resultado)"
   ]
  },
  {
   "cell_type": "markdown",
   "metadata": {},
   "source": [
    "\n",
    "3. ¿Cuál es el país que más veces ocupó el primer lugar en todos los años?    \n",
    "Se usará el dataset **df**"
   ]
  },
  {
   "cell_type": "code",
   "execution_count": 6,
   "metadata": {},
   "outputs": [
    {
     "name": "stdout",
     "output_type": "stream",
     "text": [
      "{'Año': '2016', 'País más feliz': 'Finland', 'Life Ladder': '7.660'}\n",
      "{'Año': '2012', 'País más feliz': 'Switzerland', 'Life Ladder': '7.776'}\n",
      "{'Año': '2020', 'País más feliz': 'Finland', 'Life Ladder': '7.889'}\n",
      "{'Año': '2019', 'País más feliz': 'Finland', 'Life Ladder': '7.780'}\n",
      "{'Año': '2017', 'País más feliz': 'Finland', 'Life Ladder': '7.788'}\n",
      "{'Año': '2014', 'País más feliz': 'Denmark', 'Life Ladder': '7.508'}\n",
      "{'Año': '2013', 'País más feliz': 'Canada', 'Life Ladder': '7.594'}\n",
      "{'Año': '2005', 'País más feliz': 'Denmark', 'Life Ladder': '8.019'}\n",
      "{'Año': '2009', 'País más feliz': 'Denmark', 'Life Ladder': '7.683'}\n",
      "{'Año': '2018', 'País más feliz': 'Finland', 'Life Ladder': '7.858'}\n",
      "{'Año': '2006', 'País más feliz': 'Finland', 'Life Ladder': '7.672'}\n",
      "{'Año': '2011', 'País más feliz': 'Denmark', 'Life Ladder': '7.788'}\n",
      "{'Año': '2008', 'País más feliz': 'Denmark', 'Life Ladder': '7.971'}\n",
      "{'Año': '2007', 'País más feliz': 'Denmark', 'Life Ladder': '7.834'}\n",
      "{'Año': '2015', 'País más feliz': 'Norway', 'Life Ladder': '7.603'}\n",
      "{'Año': '2010', 'País más feliz': 'Denmark', 'Life Ladder': '7.771'}\n"
     ]
    }
   ],
   "source": [
    "# Obtener la lista de los años que hay registros\n",
    "years = df.select(\"year\").distinct()\n",
    "\n",
    "# Iterar sobre cada año\n",
    "for year_row in years.collect():\n",
    "    year = year_row[\"year\"]\n",
    "    \n",
    "    # Filtrar el DataFrame para el año actual\n",
    "    pais_mas_feliz = df.filter(df[\"year\"] == year).orderBy(F.desc(\"Life Ladder\")).select(\"year\", \"country name\", \"Life Ladder\").first()\n",
    "    \n",
    "    # Imprimir el resultado\n",
    "    print({\n",
    "        \"Año\": pais_mas_feliz[\"year\"],\n",
    "        \"País más feliz\": pais_mas_feliz[\"country name\"],\n",
    "        \"Life Ladder\": pais_mas_feliz[\"Life Ladder\"]\n",
    "    })\n"
   ]
  },
  {
   "cell_type": "code",
   "execution_count": 7,
   "metadata": {},
   "outputs": [
    {
     "name": "stdout",
     "output_type": "stream",
     "text": [
      "{'Año': '2016', 'País más feliz': 'Finland', 'Life Ladder': '7.660'}\n",
      "{'Año': '2012', 'País más feliz': 'Switzerland', 'Life Ladder': '7.776'}\n",
      "{'Año': '2020', 'País más feliz': 'Finland', 'Life Ladder': '7.889'}\n",
      "{'Año': '2019', 'País más feliz': 'Finland', 'Life Ladder': '7.780'}\n",
      "{'Año': '2017', 'País más feliz': 'Finland', 'Life Ladder': '7.788'}\n",
      "{'Año': '2014', 'País más feliz': 'Denmark', 'Life Ladder': '7.508'}\n",
      "{'Año': '2013', 'País más feliz': 'Canada', 'Life Ladder': '7.594'}\n",
      "{'Año': '2005', 'País más feliz': 'Denmark', 'Life Ladder': '8.019'}\n",
      "{'Año': '2009', 'País más feliz': 'Denmark', 'Life Ladder': '7.683'}\n",
      "{'Año': '2018', 'País más feliz': 'Finland', 'Life Ladder': '7.858'}\n",
      "{'Año': '2006', 'País más feliz': 'Finland', 'Life Ladder': '7.672'}\n",
      "{'Año': '2011', 'País más feliz': 'Denmark', 'Life Ladder': '7.788'}\n",
      "{'Año': '2008', 'País más feliz': 'Denmark', 'Life Ladder': '7.971'}\n",
      "{'Año': '2007', 'País más feliz': 'Denmark', 'Life Ladder': '7.834'}\n",
      "{'Año': '2015', 'País más feliz': 'Norway', 'Life Ladder': '7.603'}\n",
      "{'Año': '2010', 'País más feliz': 'Denmark', 'Life Ladder': '7.771'}\n",
      "El país más común en la lista de resultados es: Denmark.\n"
     ]
    }
   ],
   "source": [
    "# Obtener la lista de continentes únicos\n",
    "years = df.select(\"year\").distinct().collect()\n",
    "\n",
    "# Crear una lista para almacenar los resultados\n",
    "resultados = []\n",
    "\n",
    "# Iterar sobre cada continente\n",
    "for year in years:\n",
    "    # Filtrar el DataFrame para el continente actual\n",
    "    df_cont = df.filter(df[\"year\"] == year[\"year\"])\n",
    "    \n",
    "    # Obtener el país con el mayor \"Ladder score\" para el continente actual\n",
    "    pais_mas_feliz = df_cont.orderBy(F.desc(\"Life Ladder\")).select(\"year\", \"country name\", \"Life Ladder\").first()\n",
    "    \n",
    "    # Agregar a la lista de resultados\n",
    "    resultados.append({\n",
    "        \"Año\": pais_mas_feliz[\"year\"],\n",
    "        \"País más feliz\": pais_mas_feliz[\"country name\"],\n",
    "        \"Life Ladder\": pais_mas_feliz[\"Life Ladder\"]\n",
    "    })\n",
    "\n",
    "# Imprimir la lista de resultados\n",
    "for resultado in resultados:\n",
    "    print(resultado)\n",
    "\n",
    "#-------------------------\n",
    "\n",
    "#Una vez que tenemos la lista con los paises n1 en cada año, contamos su frecuencia\n",
    "\n",
    "# Extraer los nombres de los países\n",
    "paises = [resultado[\"País más feliz\"] for resultado in resultados]\n",
    "\n",
    "# Contar la frecuencia de cada país\n",
    "frecuencia_paises = Counter(paises)\n",
    "\n",
    "# Obtener el país más común\n",
    "pais_mas_comun = frecuencia_paises.most_common(1)[0][0]\n",
    "\n",
    "# Imprimir el país más común\n",
    "print(f\"El país más común en la lista de resultados es: {pais_mas_comun}.\")"
   ]
  },
  {
   "cell_type": "markdown",
   "metadata": {},
   "source": [
    "\n",
    "4. ¿Qué puesto de Felicidad tiene el país con mayor GDP del 2020?"
   ]
  },
  {
   "cell_type": "code",
   "execution_count": 8,
   "metadata": {},
   "outputs": [
    {
     "name": "stdout",
     "output_type": "stream",
     "text": [
      "Tabla ordenada por 'Log GDP per capita':\n",
      "+------------------+----+-----------+------------------+--------------+--------------------------------+----------------------------+----------+-------------------------+---------------+---------------+\n",
      "|      Country name|year|Life Ladder|Log GDP per capita|Social support|Healthy life expectancy at birth|Freedom to make life choices|Generosity|Perceptions of corruption|Positive affect|Negative affect|\n",
      "+------------------+----+-----------+------------------+--------------+--------------------------------+----------------------------+----------+-------------------------+---------------+---------------+\n",
      "|          Bulgaria|2020|      5.598|             9.991|         0.916|                          67.200|                       0.818|    -0.004|                    0.901|          0.706|          0.221|\n",
      "|         Mauritius|2020|      6.015|             9.972|         0.893|                          67.000|                       0.843|    -0.037|                    0.772|          0.767|          0.138|\n",
      "|           Uruguay|2020|      6.310|             9.937|         0.921|                          69.200|                       0.908|    -0.084|                    0.491|          0.807|          0.265|\n",
      "|        Montenegro|2020|      5.722|             9.913|         0.887|                          68.900|                       0.802|     0.060|                    0.845|          0.603|          0.411|\n",
      "|         Argentina|2020|      5.901|             9.850|         0.897|                          69.200|                       0.823|    -0.122|                    0.816|          0.764|          0.342|\n",
      "|Dominican Republic|2020|      5.168|             9.802|         0.806|                          66.400|                       0.835|    -0.128|                    0.636|          0.734|          0.314|\n",
      "|            Serbia|2020|      6.042|             9.788|         0.852|                          69.000|                       0.843|     0.149|                    0.824|          0.603|          0.358|\n",
      "|            Mexico|2020|      5.964|             9.782|         0.779|                          68.900|                       0.873|    -0.119|                    0.778|          0.810|          0.292|\n",
      "|          Thailand|2020|      5.885|             9.769|         0.867|                          67.600|                       0.840|     0.273|                    0.918|          0.783|          0.326|\n",
      "|             China|2020|      5.771|             9.702|         0.808|                          69.900|                       0.891|    -0.103|                     NULL|          0.789|          0.245|\n",
      "+------------------+----+-----------+------------------+--------------+--------------------------------+----------------------------+----------+-------------------------+---------------+---------------+\n",
      "only showing top 10 rows\n",
      "\n",
      "En 2020, el pais con mayor valor en 'Log GDP per capita' es Bulgaria con una felicidad de 5.598.\n"
     ]
    }
   ],
   "source": [
    "\n",
    "filter_country = df.filter(df.year == 2020)\n",
    "\n",
    "# Ordenamos la tabla con los valores de Log GDP per capita\n",
    "max_GDP_country = filter_country.orderBy(F.desc(\"Log GDP per capita\"))\n",
    "\n",
    "\n",
    "print(\"Tabla ordenada por 'Log GDP per capita':\")\n",
    "max_GDP_country.show(10)\n",
    "\n",
    "#Seleccionamos el de mayor valor\n",
    "max_country = max_GDP_country.select(\"country name\", \"Log GDP per capita\",\"Life Ladder\" ).first()\n",
    "# Imprime el resultado\n",
    "print(f\"En 2020, el pais con mayor valor en 'Log GDP per capita' es {max_country['country name']} con una felicidad de {max_country['Life Ladder']}.\")"
   ]
  },
  {
   "cell_type": "markdown",
   "metadata": {},
   "source": [
    "5. ¿En que porcentaje a variado a nivel mundial el GDP promedio del 2020 respecto al 2021? ¿Aumentó o disminuyó?\n"
   ]
  },
  {
   "cell_type": "code",
   "execution_count": 9,
   "metadata": {},
   "outputs": [
    {
     "name": "stdout",
     "output_type": "stream",
     "text": [
      "+--------------------+----+-----------+------------------+--------------+--------------------------------+----------------------------+----------+-------------------------+---------------+---------------+------------------+\n",
      "|        Country name|year|Life Ladder|Log GDP per capita|Social support|Healthy life expectancy at birth|Freedom to make life choices|Generosity|Perceptions of corruption|Positive affect|Negative affect|   log_GDP_percent|\n",
      "+--------------------+----+-----------+------------------+--------------+--------------------------------+----------------------------+----------+-------------------------+---------------+---------------+------------------+\n",
      "|             Albania|2020|      5.365|             9.497|         0.710|                          69.300|                       0.754|     0.007|                    0.891|          0.679|          0.265|1.1067255397573992|\n",
      "|           Argentina|2020|      5.901|             9.850|         0.897|                          69.200|                       0.823|    -0.122|                    0.816|          0.764|          0.342|1.1478621213657345|\n",
      "|           Australia|2020|      7.137|            10.760|         0.937|                          74.200|                       0.905|     0.210|                    0.491|          0.769|          0.205|1.2539082665883556|\n",
      "|             Austria|2020|      7.213|            10.851|         0.925|                          73.600|                       0.912|     0.011|                    0.464|          0.769|          0.206|1.2645128811106179|\n",
      "|             Bahrain|2020|      6.173|            10.620|         0.848|                          69.700|                       0.945|     0.132|                     NULL|          0.790|          0.297|1.2375934750156448|\n",
      "|          Bangladesh|2020|      5.280|             8.472|         0.739|                          65.300|                       0.777|    -0.009|                    0.742|          0.582|          0.332|0.9872779586000511|\n",
      "|             Belgium|2020|      6.839|            10.771|         0.904|                          72.400|                       0.767|    -0.164|                    0.634|          0.647|          0.260|1.2551901430690688|\n",
      "|               Benin|2020|      4.408|             8.102|         0.507|                          55.100|                       0.783|    -0.083|                    0.532|          0.609|          0.305|0.9441602951578865|\n",
      "|             Bolivia|2020|      5.559|             8.998|         0.805|                          64.200|                       0.877|    -0.054|                    0.868|          0.790|          0.382|1.0485749612232365|\n",
      "|Bosnia and Herzeg...|2020|      5.516|             9.583|         0.899|                          68.400|                       0.740|     0.138|                    0.916|          0.644|          0.325|1.1167474831520645|\n",
      "+--------------------+----+-----------+------------------+--------------+--------------------------------+----------------------------+----------+-------------------------+---------------+---------------+------------------+\n",
      "only showing top 10 rows\n",
      "\n",
      "El promedio de log_GDP_percent de 2020 es: 1.136\n"
     ]
    }
   ],
   "source": [
    "df_2020 = df.filter(df.year == 2020)\n",
    "\n",
    "\n",
    "# Calcular la suma total de Log GDP per capita para el año 2020\n",
    "total_log_gdp = df_2020.agg(F.sum(\"Log GDP per capita\").alias(\"total_log_gdp\")).collect()[0][\"total_log_gdp\"]\n",
    "\n",
    "# Agregar una columna con el porcentaje total a cada fila\n",
    "df_percent = df_2020.withColumn(\n",
    "    \"log_GDP_percent\", \n",
    "    F.col(\"Log GDP per capita\") / total_log_gdp * 100\n",
    ")\n",
    "\n",
    "# Mostrar el resultado\n",
    "df_percent.show(10)\n",
    "\n",
    "# Calcular el promedio de la columna log_GDP_percent\n",
    "promedio_log_gdp_percent = df_percent.agg(F.avg(\"log_GDP_percent\").alias(\"promedio_log_gdp_percent\")).collect()[0][\"promedio_log_gdp_percent\"]\n",
    "\n",
    "# Mostrar el resultado\n",
    "print(f\"El promedio de log_GDP_percent de 2020 es: {promedio_log_gdp_percent:.3f}\")\n"
   ]
  },
  {
   "cell_type": "code",
   "execution_count": 10,
   "metadata": {},
   "outputs": [
    {
     "name": "stdout",
     "output_type": "stream",
     "text": [
      "+------------+--------------------+------------+------------------------------+------------+------------+---------------------+--------------+-----------------------+----------------------------+----------+-------------------------+------------------------+--------------------------------+----------------------------+-------------------------------------+------------------------------------------+------------------------+---------------------------------------+-------------------+\n",
      "|Country name|  Regional indicator|Ladder score|Standard error of ladder score|upperwhisker|lowerwhisker|Logged GDP per capita|Social support|Healthy life expectancy|Freedom to make life choices|Generosity|Perceptions of corruption|Ladder score in Dystopia|Explained by: Log GDP per capita|Explained by: Social support|Explained by: Healthy life expectancy|Explained by: Freedom to make life choices|Explained by: Generosity|Explained by: Perceptions of corruption|Dystopia + residual|\n",
      "+------------+--------------------+------------+------------------------------+------------+------------+---------------------+--------------+-----------------------+----------------------------+----------+-------------------------+------------------------+--------------------------------+----------------------------+-------------------------------------+------------------------------------------+------------------------+---------------------------------------+-------------------+\n",
      "|     Finland|      Western Europe|       7.842|                         0.032|       7.904|       7.780|   0.7666861866274277|         0.954|                 72.000|                       0.949|    -0.098|                    0.186|                   2.430|                           1.446|                       1.106|                                0.741|                                     0.691|                   0.124|                                  0.481|              3.253|\n",
      "|     Denmark|      Western Europe|       7.620|                         0.035|       7.687|       7.552|   0.7779285455589482|         0.954|                 72.700|                       0.946|     0.030|                    0.179|                   2.430|                           1.502|                       1.108|                                0.763|                                     0.686|                   0.208|                                  0.485|              2.868|\n",
      "| Switzerland|      Western Europe|       7.571|                         0.036|       7.643|       7.500|   0.7910209129222381|         0.942|                 74.400|                       0.919|     0.025|                    0.292|                   2.430|                           1.566|                       1.079|                                0.816|                                     0.653|                   0.204|                                  0.413|              2.839|\n",
      "|     Iceland|      Western Europe|       7.554|                         0.059|       7.670|       7.438|   0.7740150661840518|         0.983|                 73.000|                       0.955|     0.160|                    0.673|                   2.430|                           1.482|                       1.172|                                0.772|                                     0.698|                   0.293|                                  0.170|              2.967|\n",
      "| Netherlands|      Western Europe|       7.464|                         0.027|       7.518|       7.410|   0.7778573913884956|         0.942|                 72.400|                       0.913|     0.175|                    0.338|                   2.430|                           1.501|                       1.079|                                0.753|                                     0.647|                   0.302|                                  0.384|              2.798|\n",
      "|      Norway|      Western Europe|       7.392|                         0.035|       7.462|       7.323|   0.7864670460132676|         0.954|                 73.300|                       0.960|     0.093|                    0.270|                   2.430|                           1.543|                       1.108|                                0.782|                                     0.703|                   0.249|                                  0.427|              2.580|\n",
      "|      Sweden|      Western Europe|       7.363|                         0.036|       7.433|       7.293|   0.7732323703090727|         0.934|                 72.700|                       0.945|     0.086|                    0.237|                   2.430|                           1.478|                       1.062|                                0.763|                                     0.685|                   0.244|                                  0.448|              2.683|\n",
      "|  Luxembourg|      Western Europe|       7.324|                         0.037|       7.396|       7.252|   0.8287326232621486|         0.908|                 72.600|                       0.907|    -0.034|                    0.386|                   2.430|                           1.751|                       1.003|                                0.760|                                     0.639|                   0.166|                                  0.353|              2.653|\n",
      "| New Zealand|North America and...|       7.277|                         0.040|       7.355|       7.198|   0.7572938361276764|         0.948|                 73.400|                       0.929|     0.134|                    0.242|                   2.430|                           1.400|                       1.094|                                0.785|                                     0.665|                   0.276|                                  0.445|              2.612|\n",
      "|     Austria|      Western Europe|       7.268|                         0.036|       7.337|       7.198|   0.7760073829567264|         0.934|                 73.300|                       0.908|     0.042|                    0.481|                   2.430|                           1.492|                       1.062|                                0.782|                                     0.640|                   0.215|                                  0.292|              2.784|\n",
      "+------------+--------------------+------------+------------------------------+------------+------------+---------------------+--------------+-----------------------+----------------------------+----------+-------------------------+------------------------+--------------------------------+----------------------------+-------------------------------------+------------------------------------------+------------------------+---------------------------------------+-------------------+\n",
      "only showing top 10 rows\n",
      "\n",
      "El promedio de log_GDP_percent de 2021 es: 0.671\n"
     ]
    }
   ],
   "source": [
    "\n",
    "# Calcular la suma total de Log GDP per capita para el año 2021\n",
    "total_log_gdp_2021 = df2021.agg(F.sum(\"Logged GDP per capita\").alias(\"total_log_gdp_2021\")).collect()[0][\"total_log_gdp_2021\"]\n",
    "\n",
    "# Agregar una columna con el porcentaje total a cada fila\n",
    "df_percent_2021 = df2021.withColumn(\n",
    "    \"Logged GDP per capita\", \n",
    "    F.col(\"Logged GDP per capita\") / total_log_gdp_2021 * 100\n",
    ")\n",
    "\n",
    "# Mostrar el resultado\n",
    "df_percent_2021.show(10)\n",
    "\n",
    "# Calcular el promedio de la columna log_GDP_percent\n",
    "promedio_log_gdp_percent_2021 = df_percent_2021.agg(F.avg(\"Logged GDP per capita\").alias(\"promedio_log_gdp_percent_2021\")).collect()[0][\"promedio_log_gdp_percent_2021\"]\n",
    "\n",
    "# Mostrar el resultado\n",
    "print(f\"El promedio de log_GDP_percent de 2021 es: {promedio_log_gdp_percent_2021:.3f}\")\n"
   ]
  },
  {
   "cell_type": "markdown",
   "metadata": {},
   "source": [
    "En el año 2020 se tuvo un promedio de GDP de 1.136 y en 2021 de 0.671, por lo que se ha disminuido.  "
   ]
  },
  {
   "cell_type": "markdown",
   "metadata": {},
   "source": [
    "6. ¿Cuál es el país con mayor expectativa de vida (“Healthy life expectancy at birth”)? Y ¿Cuánto tenia en ese indicador en el 2019?"
   ]
  },
  {
   "cell_type": "code",
   "execution_count": 11,
   "metadata": {},
   "outputs": [
    {
     "name": "stdout",
     "output_type": "stream",
     "text": [
      "Tabla ordenada por 'Healthy life expectancy':\n"
     ]
    },
    {
     "name": "stdout",
     "output_type": "stream",
     "text": [
      "+--------------------+--------------------+------------+------------------------------+------------+------------+---------------------+--------------+-----------------------+----------------------------+----------+-------------------------+------------------------+--------------------------------+----------------------------+-------------------------------------+------------------------------------------+------------------------+---------------------------------------+-------------------+\n",
      "|        Country name|  Regional indicator|Ladder score|Standard error of ladder score|upperwhisker|lowerwhisker|Logged GDP per capita|Social support|Healthy life expectancy|Freedom to make life choices|Generosity|Perceptions of corruption|Ladder score in Dystopia|Explained by: Log GDP per capita|Explained by: Social support|Explained by: Healthy life expectancy|Explained by: Freedom to make life choices|Explained by: Generosity|Explained by: Perceptions of corruption|Dystopia + residual|\n",
      "+--------------------+--------------------+------------+------------------------------+------------+------------+---------------------+--------------+-----------------------+----------------------------+----------+-------------------------+------------------------+--------------------------------+----------------------------+-------------------------------------+------------------------------------------+------------------------+---------------------------------------+-------------------+\n",
      "|           Singapore|      Southeast Asia|       6.377|                         0.043|       6.460|       6.293|               11.488|         0.915|                 76.953|                       0.927|    -0.018|                    0.082|                   2.430|                           1.695|                       1.019|                                0.897|                                     0.664|                   0.176|                                  0.547|              1.379|\n",
      "|Hong Kong S.A.R. ...|           East Asia|       5.477|                         0.049|       5.573|       5.380|               11.000|         0.836|                 76.820|                       0.717|     0.067|                    0.403|                   2.430|                           1.525|                       0.841|                                0.893|                                     0.408|                   0.232|                                  0.342|              1.236|\n",
      "|               Japan|           East Asia|       5.940|                         0.040|       6.020|       5.861|               10.611|         0.884|                 75.100|                       0.796|    -0.258|                    0.638|                   2.430|                           1.389|                       0.949|                                0.838|                                     0.504|                   0.020|                                  0.192|              2.048|\n",
      "|               Spain|      Western Europe|       6.491|                         0.042|       6.574|       6.408|               10.571|         0.932|                 74.700|                       0.761|    -0.081|                    0.745|                   2.430|                           1.375|                       1.057|                                0.826|                                     0.462|                   0.135|                                  0.124|              2.513|\n",
      "|         Switzerland|      Western Europe|       7.571|                         0.036|       7.643|       7.500|               11.117|         0.942|                 74.400|                       0.919|     0.025|                    0.292|                   2.430|                           1.566|                       1.079|                                0.816|                                     0.653|                   0.204|                                  0.413|              2.839|\n",
      "|              France|      Western Europe|       6.690|                         0.037|       6.762|       6.618|               10.704|         0.942|                 74.000|                       0.822|    -0.147|                    0.571|                   2.430|                           1.421|                       1.081|                                0.804|                                     0.536|                   0.092|                                  0.235|              2.521|\n",
      "|           Australia|North America and...|       7.183|                         0.041|       7.265|       7.102|               10.796|         0.940|                 73.900|                       0.914|     0.159|                    0.442|                   2.430|                           1.453|                       1.076|                                0.801|                                     0.647|                   0.291|                                  0.317|              2.598|\n",
      "|         South Korea|           East Asia|       5.845|                         0.042|       5.928|       5.763|               10.651|         0.799|                 73.900|                       0.672|    -0.083|                    0.727|                   2.430|                           1.403|                       0.758|                                0.801|                                     0.353|                   0.134|                                  0.135|              2.262|\n",
      "|              Cyprus|      Western Europe|       6.223|                         0.049|       6.319|       6.128|               10.576|         0.802|                 73.898|                       0.763|    -0.015|                    0.844|                   2.430|                           1.377|                       0.765|                                0.801|                                     0.464|                   0.178|                                  0.061|              2.578|\n",
      "|        North Cyprus|      Western Europe|       5.536|                         0.051|       5.636|       5.435|               10.576|         0.820|                 73.898|                       0.795|     0.012|                    0.626|                   2.430|                           1.377|                       0.806|                                0.801|                                     0.503|                   0.196|                                  0.200|              1.653|\n",
      "+--------------------+--------------------+------------+------------------------------+------------+------------+---------------------+--------------+-----------------------+----------------------------+----------+-------------------------+------------------------+--------------------------------+----------------------------+-------------------------------------+------------------------------------------+------------------------+---------------------------------------+-------------------+\n",
      "only showing top 10 rows\n",
      "\n",
      "El pais con el mayor valor en 'Healthy life expectancy' es: Bulgaria\n"
     ]
    }
   ],
   "source": [
    "\n",
    "# Ordenamos la tabla con los valores de Healthy life expectancy\n",
    "max_healthy_countries = df2021.orderBy(F.desc(\"Healthy life expectancy\"))\n",
    "\n",
    "print(\"Tabla ordenada por 'Healthy life expectancy':\")\n",
    "max_healthy_countries.show(10)\n",
    "\n",
    "#Seleccionamos el de mayor valor\n",
    "max_healthy_country = max_healthy_countries.select(\"country name\", \"Healthy life expectancy\").first()\n",
    "# Imprime el resultado\n",
    "print(f\"El pais con el mayor valor en 'Healthy life expectancy' es: {max_country['country name']}\")\n"
   ]
  },
  {
   "cell_type": "code",
   "execution_count": 18,
   "metadata": {},
   "outputs": [
    {
     "name": "stdout",
     "output_type": "stream",
     "text": [
      "+------------+----+-----------+------------------+--------------+--------------------------------+----------------------------+----------+-------------------------+---------------+---------------+\n",
      "|Country name|year|Life Ladder|Log GDP per capita|Social support|Healthy life expectancy at birth|Freedom to make life choices|Generosity|Perceptions of corruption|Positive affect|Negative affect|\n",
      "+------------+----+-----------+------------------+--------------+--------------------------------+----------------------------+----------+-------------------------+---------------+---------------+\n",
      "|    Bulgaria|2019|      5.108|            10.047|         0.948|                          67.000|                       0.822|    -0.109|                    0.943|          0.663|          0.200|\n",
      "+------------+----+-----------+------------------+--------------+--------------------------------+----------------------------+----------+-------------------------+---------------+---------------+\n",
      "\n",
      "Bulgaria en el año 2019 tenía una 'Healthy life expectancy' de 67.000.\n"
     ]
    }
   ],
   "source": [
    "bulgaria_2019 = df.filter((df.year == 2019) & (df[\"Country name\"] == 'Bulgaria'))\n",
    "\n",
    "# Imprime el DataFrame resultante\n",
    "bulgaria_2019.show()\n",
    "\n",
    "# Accede al valor de la columna 'Healthy life expectancy'\n",
    "healthy_life = bulgaria_2019.select('Healthy life expectancy at birth').first()\n",
    "\n",
    "# Imprime el resultado\n",
    "print(f\"Bulgaria en el año 2019 tenía una 'Healthy life expectancy' de {healthy_life['Healthy life expectancy at birth']}.\")"
   ]
  }
 ],
 "metadata": {
  "kernelspec": {
   "display_name": "Python 3",
   "language": "python",
   "name": "python3"
  },
  "language_info": {
   "codemirror_mode": {
    "name": "ipython",
    "version": 3
   },
   "file_extension": ".py",
   "mimetype": "text/x-python",
   "name": "python",
   "nbconvert_exporter": "python",
   "pygments_lexer": "ipython3",
   "version": "3.11.3"
  }
 },
 "nbformat": 4,
 "nbformat_minor": 2
}
